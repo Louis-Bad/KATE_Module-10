{
 "cells": [
  {
   "cell_type": "markdown",
   "metadata": {},
   "source": [
    "# Assignment - Time Series Analysis of London Energy Consumption"
   ]
  },
  {
   "cell_type": "markdown",
   "metadata": {},
   "source": [
    "KATE expects your code to define variables with specific names that correspond to certain things we are interested in.\n",
    "\n",
    "KATE will run your notebook from top to bottom and check the latest value of those variables, so make sure you don't overwrite them.\n",
    "\n",
    "* Remember to uncomment the line assigning the variable to your answer and don't change the variable or function names.\n",
    "* Use copies of the original or previous DataFrames to make sure you do not overwrite them by mistake.\n",
    "\n",
    "You will find instructions below about how to define each variable.\n",
    "\n",
    "Once you're happy with your code, upload your notebook to KATE to check your feedback."
   ]
  },
  {
   "cell_type": "markdown",
   "metadata": {},
   "source": [
    "A time series from smart-meters in London is provided from end of 2011 to 2014. The data contains the daily consumption (kWh) averaged over several households in London. \n",
    "\n",
    "The last timestamp for which consumpton is available is January 31st 2014. \n",
    "\n",
    "The aim of this assignment is to build a forecasting model that predicts the consumption for February 2014 (exluding 28th, so from the 1st to the 27th)."
   ]
  },
  {
   "cell_type": "markdown",
   "metadata": {},
   "source": [
    "## Get the data\n",
    "Load the dataset using `.read_csv()` and assign it to a DataFrame, `df`:"
   ]
  },
  {
   "cell_type": "code",
   "execution_count": 87,
   "metadata": {},
   "outputs": [
    {
     "data": {
      "text/html": [
       "<div>\n",
       "<style scoped>\n",
       "    .dataframe tbody tr th:only-of-type {\n",
       "        vertical-align: middle;\n",
       "    }\n",
       "\n",
       "    .dataframe tbody tr th {\n",
       "        vertical-align: top;\n",
       "    }\n",
       "\n",
       "    .dataframe thead th {\n",
       "        text-align: right;\n",
       "    }\n",
       "</style>\n",
       "<table border=\"1\" class=\"dataframe\">\n",
       "  <thead>\n",
       "    <tr style=\"text-align: right;\">\n",
       "      <th></th>\n",
       "      <th>day</th>\n",
       "      <th>consumption</th>\n",
       "      <th>evaluation_set</th>\n",
       "    </tr>\n",
       "  </thead>\n",
       "  <tbody>\n",
       "    <tr>\n",
       "      <th>0</th>\n",
       "      <td>2011-11-24</td>\n",
       "      <td>7.7580</td>\n",
       "      <td>False</td>\n",
       "    </tr>\n",
       "    <tr>\n",
       "      <th>1</th>\n",
       "      <td>2011-11-25</td>\n",
       "      <td>8.7385</td>\n",
       "      <td>False</td>\n",
       "    </tr>\n",
       "    <tr>\n",
       "      <th>2</th>\n",
       "      <td>2011-11-26</td>\n",
       "      <td>9.4770</td>\n",
       "      <td>False</td>\n",
       "    </tr>\n",
       "    <tr>\n",
       "      <th>3</th>\n",
       "      <td>2011-11-27</td>\n",
       "      <td>9.8030</td>\n",
       "      <td>False</td>\n",
       "    </tr>\n",
       "    <tr>\n",
       "      <th>4</th>\n",
       "      <td>2011-11-28</td>\n",
       "      <td>7.0690</td>\n",
       "      <td>False</td>\n",
       "    </tr>\n",
       "  </tbody>\n",
       "</table>\n",
       "</div>"
      ],
      "text/plain": [
       "          day  consumption  evaluation_set\n",
       "0  2011-11-24       7.7580           False\n",
       "1  2011-11-25       8.7385           False\n",
       "2  2011-11-26       9.4770           False\n",
       "3  2011-11-27       9.8030           False\n",
       "4  2011-11-28       7.0690           False"
      ]
     },
     "execution_count": 87,
     "metadata": {},
     "output_type": "execute_result"
    }
   ],
   "source": [
    "import pandas as pd\n",
    "\n",
    "df = pd.read_csv(\"data/london_smartmeter_basic.csv\")\n",
    "\n",
    "df.head()"
   ]
  },
  {
   "cell_type": "markdown",
   "metadata": {},
   "source": [
    "## Get Training and Evaluation Time Series\n",
    "\n",
    "Separate the original dataframe into a training set `ts` and evaluation set `ts_eval`.\n",
    "\n",
    "`ts_eval` is the evaluation time series, it contains the list of days you will need to predict consumption for so KATE can evaluate the performance of your model. \n",
    "\n",
    "In the dataframe provided, the column `evaluation_set` determines whether a row is for evaluation or not.\n",
    "\n",
    "Get all the rows for the evaluation set using:\n",
    "\n",
    "```\n",
    "df.loc[df.evaluation_set]\n",
    "```"
   ]
  },
  {
   "cell_type": "code",
   "execution_count": 88,
   "metadata": {},
   "outputs": [],
   "source": [
    "def preprocess(df):\n",
    "    \"\"\"This function takes a dataframe and preprocesses it so it is\n",
    "    ready for the training stage.\n",
    "\n",
    "    The DataFrame contains the time axis and the target column.\n",
    "\n",
    "    It also contains some rows for which the target column is unknown.\n",
    "    Those are the observations you will need to predict for KATE\n",
    "    to evaluate the performance of your model.\n",
    "\n",
    "    Here you will need to return the training time series: ts together\n",
    "    with the preprocessed evaluation time serie: ts_eval.\n",
    "\n",
    "    Make sure you return ts_eval separately! It needs to contain\n",
    "    all the rows for evaluation -- they are marked with the column\n",
    "    evaluation_set. You can easily select them with pandas:\n",
    "\n",
    "         - df.loc[df.evaluation_set]\n",
    "\n",
    "\n",
    "    :param df: the dataset\n",
    "    :type df: pd.DataFrame\n",
    "    :return: ts, ts_eval\n",
    "    \"\"\"\n",
    "    \n",
    "    # set as date time \n",
    "    df[\"day\"] = pd.to_datetime(df[\"day\"], format = \"%Y-%m-%d\") \n",
    "    \n",
    "    # rename columns\n",
    "    df.rename(columns = {\"day\":\"ds\", \"consumption\":\"y\"}, inplace = True)\n",
    "    \n",
    "    ts = df.loc[df[\"evaluation_set\"] == False]    \n",
    "    ts_eval = df.loc[df[\"evaluation_set\"] == True]\n",
    "    \n",
    "    ts = ts.drop(\"evaluation_set\", axis = 1)\n",
    "    ts_eval = ts_eval.drop(\"evaluation_set\", axis = 1)\n",
    "    \n",
    "    return ts, ts_eval\n",
    "\n",
    "    \n",
    "    \n",
    "#raise NotImplementedError"
   ]
  },
  {
   "cell_type": "markdown",
   "metadata": {},
   "source": [
    "Once you have implemented the `preprocess` function, you can call it with `ts, ts_eval = preprocess(df)`:"
   ]
  },
  {
   "cell_type": "code",
   "execution_count": 89,
   "metadata": {},
   "outputs": [],
   "source": [
    "# Your code here...\n",
    "ts, ts_eval = preprocess(df)"
   ]
  },
  {
   "cell_type": "code",
   "execution_count": 93,
   "metadata": {},
   "outputs": [
    {
     "data": {
      "text/plain": [
       "27"
      ]
     },
     "execution_count": 93,
     "metadata": {},
     "output_type": "execute_result"
    }
   ],
   "source": [
    "len(ts_eval)"
   ]
  },
  {
   "cell_type": "markdown",
   "metadata": {},
   "source": [
    "## Train an AR model\n",
    "\n",
    "Write a function to train an AR model using your train time series `ts`.\n",
    "\n",
    "You can use the  Autoregressive AR(p) model `tsa.AR` from the `statsmodels` module to train an AR model. Another option is to use the module Prophet; do not forget to set the growth and the seasonality parameters.\n",
    "\n",
    "*NOTE*: Since with this project your model will be trained directly on KATE, it is limited to models that can be trained under 1min. You will receive a `TimeoutError` if your model takes too long."
   ]
  },
  {
   "cell_type": "code",
   "execution_count": 94,
   "metadata": {},
   "outputs": [],
   "source": [
    "from prophet import Prophet\n",
    "\n",
    "def train(ts):\n",
    "    \"\"\"Trains a new model on ts and returns it.\n",
    "\n",
    "    :param ts: your processed training time serie\n",
    "    :type ts: pd.DataFrame\n",
    "    :return: a trained model\n",
    "    \"\"\"\n",
    "    \n",
    "    model = Prophet()\n",
    "    model.fit(ts)\n",
    "    \n",
    "    return model\n",
    "    \n",
    "#raise NotImplementedError"
   ]
  },
  {
   "cell_type": "markdown",
   "metadata": {},
   "source": [
    "Once you have implemented the `train` function, you can call with with `model = train(ts)`:"
   ]
  },
  {
   "cell_type": "code",
   "execution_count": 95,
   "metadata": {},
   "outputs": [
    {
     "name": "stderr",
     "output_type": "stream",
     "text": [
      "17:59:31 - cmdstanpy - INFO - Chain [1] start processing\n",
      "17:59:31 - cmdstanpy - INFO - Chain [1] done processing\n"
     ]
    }
   ],
   "source": [
    "# Your code here...\n",
    "model = train(ts)\n"
   ]
  },
  {
   "cell_type": "markdown",
   "metadata": {},
   "source": [
    "## Evaluate Your Model\n",
    "\n",
    "Write a function `predict` that takes the model you have trained as well as a test time series (on KATE this will be the `ts_eval` that you processed above, but you can test this function locally with your own time series). \n",
    "\n",
    "The function should return the predictions on the test set assigned to a variable called `y_pred`.\n"
   ]
  },
  {
   "cell_type": "code",
   "execution_count": 114,
   "metadata": {},
   "outputs": [],
   "source": [
    "def predict(model, ts_test):\n",
    "    \"\"\"This functions takes your trained model as well\n",
    "    as a processed test time series and returns predictions.\n",
    "\n",
    "    This should return your predictions either as a pd.DataFrame with one column\n",
    "    or a pd.Series\n",
    "\n",
    "    :param model: your trained model\n",
    "    :param ts_test: a processed test time serie (on KATE it will be ts_eval)\n",
    "    :return: y_pred, your predictions\n",
    "    \"\"\"\n",
    "    \n",
    "    # Create future df\n",
    "    future_df = model.make_future_dataframe(periods=27, include_history=False)\n",
    "    \n",
    "    #predictions for future dates created above\n",
    "    forecast = model.predict(future_df)\n",
    "    \n",
    "    return forecast[\"yhat\"]\n",
    "    "
   ]
  },
  {
   "cell_type": "markdown",
   "metadata": {},
   "source": [
    "Once implemented, you can check our your predictions by calling predict with `model` and `ts_eval`:"
   ]
  },
  {
   "cell_type": "code",
   "execution_count": 115,
   "metadata": {},
   "outputs": [],
   "source": [
    "# Your code here...\n",
    "y_pred = predict(model, ts_eval)"
   ]
  },
  {
   "cell_type": "code",
   "execution_count": 116,
   "metadata": {},
   "outputs": [
    {
     "data": {
      "text/plain": [
       "0     9.042186\n",
       "1     9.448268\n",
       "2     8.860092\n",
       "3     8.735572\n",
       "4     8.648586\n",
       "5     8.598180\n",
       "6     8.605243\n",
       "7     8.865430\n",
       "8     9.258809\n",
       "9     8.659174\n",
       "10    8.524474\n",
       "11    8.428599\n",
       "12    8.370589\n",
       "13    8.371304\n",
       "14    8.626356\n",
       "15    9.015760\n",
       "16    8.413240\n",
       "17    8.276674\n",
       "18    8.179869\n",
       "19    8.121784\n",
       "20    8.123195\n",
       "21    8.379631\n",
       "22    8.771024\n",
       "23    8.171020\n",
       "24    8.037420\n",
       "25    7.943964\n",
       "26    7.889540\n",
       "Name: yhat, dtype: float64"
      ]
     },
     "execution_count": 116,
     "metadata": {},
     "output_type": "execute_result"
    }
   ],
   "source": [
    "y_pred"
   ]
  },
  {
   "cell_type": "code",
   "execution_count": null,
   "metadata": {},
   "outputs": [],
   "source": []
  }
 ],
 "metadata": {
  "kernelspec": {
   "display_name": "Python 3 (ipykernel)",
   "language": "python",
   "name": "python3"
  },
  "language_info": {
   "codemirror_mode": {
    "name": "ipython",
    "version": 3
   },
   "file_extension": ".py",
   "mimetype": "text/x-python",
   "name": "python",
   "nbconvert_exporter": "python",
   "pygments_lexer": "ipython3",
   "version": "3.9.12"
  }
 },
 "nbformat": 4,
 "nbformat_minor": 4
}
